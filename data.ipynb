{
 "cells": [
  {
   "cell_type": "code",
   "execution_count": 20,
   "metadata": {},
   "outputs": [],
   "source": [
    "import pandas as pd\n",
    "import json"
   ]
  },
  {
   "cell_type": "code",
   "execution_count": 21,
   "metadata": {},
   "outputs": [],
   "source": [
    "def analyze_missing_values(json_data):\n",
    "    data = json.loads(json_data)\n",
    "    df = pd.DataFrame([{\n",
    "        'firstName': record['patientDetails'].get('firstName', ''),\n",
    "        'lastName': record['patientDetails'].get('lastName', ''),\n",
    "        'birthDate': record['patientDetails'].get('birthDate', '')\n",
    "    } for record in data])\n",
    "    total_records = len(df)\n",
    "    missing_values = {}\n",
    "    for column in ['firstName', 'lastName', 'birthDate']:\n",
    "        missing_count = df[column].fillna('').str.strip().eq('').sum()\n",
    "        percentage = round((missing_count / total_records) * 100, 2)\n",
    "        \n",
    "        missing_values[column] = {\n",
    "            'missing_count': missing_count,\n",
    "            'total_records': total_records,\n",
    "            'missing_percentage': percentage\n",
    "        }\n",
    "    \n",
    "    return missing_values"
   ]
  },
  {
   "cell_type": "code",
   "execution_count": 22,
   "metadata": {},
   "outputs": [],
   "source": [
    "with open('DataEngineeringQ2.json', 'r') as file:\n",
    "    json_data = file.read()\n",
    "\n",
    "results = analyze_missing_values(json_data)\n"
   ]
  },
  {
   "cell_type": "code",
   "execution_count": 23,
   "metadata": {},
   "outputs": [
    {
     "name": "stdout",
     "output_type": "stream",
     "text": [
      "\n",
      "firstName:\n",
      "Total Records: 31\n",
      "Missing Count: 0\n",
      "Missing Percentage: 0.0%\n",
      "\n",
      "lastName:\n",
      "Total Records: 31\n",
      "Missing Count: 22\n",
      "Missing Percentage: 70.97%\n",
      "\n",
      "birthDate:\n",
      "Total Records: 31\n",
      "Missing Count: 10\n",
      "Missing Percentage: 32.26%\n"
     ]
    }
   ],
   "source": [
    "for field, stats in results.items():\n",
    "    print(f\"\\n{field}:\")\n",
    "    print(f\"Total Records: {stats['total_records']}\")\n",
    "    print(f\"Missing Count: {stats['missing_count']}\")\n",
    "    print(f\"Missing Percentage: {stats['missing_percentage']}%\")"
   ]
  },
  {
   "cell_type": "code",
   "execution_count": 24,
   "metadata": {},
   "outputs": [],
   "source": [
    "def calculate_female_percentage(json_string):\n",
    "    data = json.loads(json_string)\n",
    "    df = pd.DataFrame([{\n",
    "        'gender': record['patientDetails'].get('gender', '')\n",
    "    } for record in data])\n",
    "    df['gender'] = df['gender'].fillna('').str.strip().str.upper()\n",
    "    \n",
    "    total_records = len(df)\n",
    "    mode_gender = df[df['gender'] != '']['gender'].mode()\n",
    "    mode_value = mode_gender.iloc[0] if not mode_gender.empty else ''\n",
    "    df['gender_imputed'] = df['gender'].replace('', mode_value)\n",
    "    females_after_imputation = len(df[df['gender_imputed'] == 'F'])\n",
    "\n",
    "    female_percentage = round((females_after_imputation / total_records) * 100, 2)\n",
    "    return female_percentage\n"
   ]
  },
  {
   "cell_type": "code",
   "execution_count": 25,
   "metadata": {},
   "outputs": [],
   "source": [
    "results = calculate_female_percentage(json_data)\n"
   ]
  },
  {
   "cell_type": "code",
   "execution_count": 26,
   "metadata": {},
   "outputs": [
    {
     "data": {
      "text/plain": [
       "32.26"
      ]
     },
     "execution_count": 26,
     "metadata": {},
     "output_type": "execute_result"
    }
   ],
   "source": [
    "results"
   ]
  },
  {
   "cell_type": "code",
   "execution_count": 27,
   "metadata": {},
   "outputs": [],
   "source": [
    "from datetime import datetime \n",
    "def analyze_age_groups(json_string):\n",
    "    data = json.loads(json_string)\n",
    "    \n",
    "    df = pd.DataFrame([record['patientDetails'] for record in data])\n",
    "    df['birthDate'] = pd.to_datetime(df['birthDate']).dt.tz_localize(None)\n",
    "\n",
    "    current_date = datetime.now()\n",
    "    df['age'] = df['birthDate'].apply(lambda x: \n",
    "        int((current_date - x).days / 365.25) if pd.notnull(x) else None)\n",
    "    \n",
    "    def assign_age_group(age):\n",
    "        if pd.isna(age):\n",
    "            return \"Unknown\"\n",
    "        elif age <= 12:\n",
    "            return \"Child\"\n",
    "        elif age <= 19:\n",
    "            return \"Teen\"\n",
    "        elif age <= 59:\n",
    "            return \"Adult\"\n",
    "        else:\n",
    "            return \"Senior\"\n",
    "    \n",
    "    df['ageGroup'] = df['age'].apply(assign_age_group)\n",
    "    age_group_counts = df['ageGroup'].value_counts().to_dict()\n",
    "    adult_count = age_group_counts.get('Adult', 0)\n",
    "    known_age_count = len(df[df['ageGroup'] != 'Unknown'])\n",
    "    \n",
    "    return {\n",
    "        'age_group_counts': age_group_counts,\n",
    "        'adult_count': adult_count,\n",
    "        'total_records': len(df),\n",
    "        'known_age_count': known_age_count\n",
    "    }\n"
   ]
  },
  {
   "cell_type": "code",
   "execution_count": 28,
   "metadata": {},
   "outputs": [
    {
     "name": "stdout",
     "output_type": "stream",
     "text": [
      "Adult Count: 21\n"
     ]
    }
   ],
   "source": [
    "results = analyze_age_groups(json_data)\n",
    "print(f\"Adult Count: {results['adult_count']}\")\n"
   ]
  },
  {
   "cell_type": "code",
   "execution_count": 29,
   "metadata": {},
   "outputs": [],
   "source": [
    "def analyze_medicine_count(json_string):\n",
    "    data = json.loads(json_string)\n",
    "    medicine_counts = [len(record['consultationData']['medicines']) \n",
    "                      for record in data]\n",
    "    df = pd.DataFrame(medicine_counts, columns=['medicine_count'])\n",
    "    average_medicines = round(df['medicine_count'].mean(), 2)\n",
    "    return average_medicines"
   ]
  },
  {
   "cell_type": "code",
   "execution_count": 30,
   "metadata": {},
   "outputs": [
    {
     "data": {
      "text/plain": [
       "2.13"
      ]
     },
     "execution_count": 30,
     "metadata": {},
     "output_type": "execute_result"
    }
   ],
   "source": [
    "results = analyze_medicine_count(json_data)\n",
    "results"
   ]
  },
  {
   "cell_type": "code",
   "execution_count": 31,
   "metadata": {},
   "outputs": [],
   "source": [
    "from collections import Counter\n",
    "def get_third_most_prescribed(json_string):\n",
    "    data = json.loads(json_string)\n",
    "    medicine_names = []\n",
    "    for record in data:\n",
    "        medicines = record['consultationData']['medicines']\n",
    "        medicine_names.extend([med['medicineName'] for med in medicines])\n",
    "    medicine_counts = Counter(medicine_names)\n",
    "    df = pd.DataFrame.from_dict(medicine_counts, orient='index', columns=['count'])\n",
    "    df = df.sort_values('count', ascending=False)\n",
    "    df['rank'] = df['count'].rank(method='min', ascending=False)\n",
    "    \n",
    "    third_medicine = df[df['rank'] == 3]\n",
    "    \n",
    "    return {'third_medicine': {\n",
    "            'name': third_medicine.index[0] if not third_medicine.empty else None,\n",
    "            'count': int(third_medicine['count'].iloc[0]) if not third_medicine.empty else 0\n",
    "        }}"
   ]
  },
  {
   "cell_type": "code",
   "execution_count": 32,
   "metadata": {},
   "outputs": [
    {
     "name": "stdout",
     "output_type": "stream",
     "text": [
      "3rd most prescribed medicine: C\n",
      "prescriptions: 13\n"
     ]
    }
   ],
   "source": [
    "results = get_third_most_prescribed(json_data)\n",
    "print(f\"3rd most prescribed medicine: {results['third_medicine']['name']}\")\n",
    "print(f\"prescriptions: {results['third_medicine']['count']}\")"
   ]
  },
  {
   "cell_type": "code",
   "execution_count": 33,
   "metadata": {},
   "outputs": [],
   "source": [
    "def analyze_medicine_status(json_string):\n",
    "    data = json.loads(json_string)\n",
    "    \n",
    "    medicines = []\n",
    "    for record in data:\n",
    "        medicines.extend(record['consultationData']['medicines'])\n",
    "    df = pd.DataFrame(medicines)\n",
    "    \n",
    "\n",
    "    total_medicines = len(df)\n",
    "    active_count = df['isActive'].sum()\n",
    "    inactive_count = total_medicines - active_count\n",
    "    \n",
    "    active_percentage = round((active_count / total_medicines * 100), 2)\n",
    "    inactive_percentage = round((inactive_count / total_medicines * 100), 2)\n",
    "    \n",
    "    results = {\n",
    "        'active': {\n",
    "            'count': int(active_count),\n",
    "            'percentage': active_percentage\n",
    "        },\n",
    "        'inactive': {\n",
    "            'count': int(inactive_count),\n",
    "            'percentage': inactive_percentage\n",
    "        }\n",
    "    }\n",
    "    \n",
    "    return results\n"
   ]
  },
  {
   "cell_type": "code",
   "execution_count": 34,
   "metadata": {},
   "outputs": [
    {
     "name": "stdout",
     "output_type": "stream",
     "text": [
      "Active Medicines: 69.7%\n",
      "Inactive Medicines: 30.3%\n"
     ]
    }
   ],
   "source": [
    "results = analyze_medicine_status(json_data)\n",
    "print(f\"Active Medicines: {results['active']['percentage']}%\")\n",
    "print(f\"Inactive Medicines: {results['inactive']['percentage']}%\")"
   ]
  },
  {
   "cell_type": "code",
   "execution_count": 35,
   "metadata": {},
   "outputs": [],
   "source": [
    "def is_valid_indian_mobile(phone_number):\n",
    "    if not phone_number or not isinstance(phone_number, str):\n",
    "        return False\n",
    "\n",
    "    phone_number = phone_number.strip()\n",
    "    \n",
    "    if phone_number.startswith('+91'):\n",
    "        phone_number = phone_number[3:]\n",
    "    elif phone_number.startswith('91'):\n",
    "        phone_number = phone_number[2:]\n",
    "    if not phone_number.isdigit():\n",
    "        return False\n",
    "    \n",
    "    if len(phone_number) != 10:\n",
    "        return False\n",
    "    \n",
    "    number_int = int(phone_number)\n",
    "    return 6000000000 <= number_int <= 9999999999\n",
    "\n",
    "def process_phone_numbers(json_string):\n",
    "    valid_count = 0\n",
    "    data = json.loads(json_string)\n",
    "    for entry in data:\n",
    "        phone_number = entry['phoneNumber']\n",
    "        is_valid = is_valid_indian_mobile(phone_number)\n",
    "        entry['isValidMobile'] = is_valid\n",
    "        if is_valid:\n",
    "            valid_count += 1\n",
    "    \n",
    "    return valid_count"
   ]
  },
  {
   "cell_type": "code",
   "execution_count": 36,
   "metadata": {},
   "outputs": [
    {
     "name": "stdout",
     "output_type": "stream",
     "text": [
      "Number of valid phone numbers: 18\n"
     ]
    }
   ],
   "source": [
    "valid_count = process_phone_numbers(json_data)\n",
    "print(f\"Number of valid phone numbers: {valid_count}\")"
   ]
  },
  {
   "cell_type": "markdown",
   "metadata": {},
   "source": [
    "Pearson correlation formula:\n",
    "\n",
    "\n",
    "r = Σ((xi - x̄)(yi - ȳ)) / √[Σ(xi - x̄)²][Σ(yi - ȳ)²]"
   ]
  },
  {
   "cell_type": "code",
   "execution_count": 37,
   "metadata": {},
   "outputs": [],
   "source": [
    "import math\n",
    "def calculate_pearson_correlation(data):\n",
    "    data = json.loads(data)\n",
    "    def calculate_age(birth_date_str):\n",
    "        if not birth_date_str:\n",
    "            return None\n",
    "        try:\n",
    "            birth_date = datetime.strptime(birth_date_str.split('T')[0], '%Y-%m-%d')\n",
    "            reference_date = datetime(2024, 12, 13)\n",
    "            age = reference_date.year - birth_date.year - (\n",
    "                (reference_date.month, reference_date.day) < (birth_date.month, birth_date.day)\n",
    "            )\n",
    "            return age\n",
    "        except (ValueError, AttributeError):\n",
    "            return None\n",
    "\n",
    "    valid_pairs = []\n",
    "    \n",
    "    for entry in data:\n",
    "        \n",
    "        birth_date = entry.get('patientDetails', {}).get('birthDate')\n",
    "        age = calculate_age(birth_date)\n",
    "        \n",
    "        if age is not None:\n",
    "            active_medicines = sum(\n",
    "                1 for med in entry.get('consultationData', {}).get('medicines', [])\n",
    "                if med.get('isActive', False)\n",
    "            )\n",
    "            \n",
    "            valid_pairs.append((age, active_medicines))\n",
    "\n",
    "    if len(valid_pairs) < 2:\n",
    "        return 0, valid_pairs\n",
    "    n = len(valid_pairs)\n",
    "    mean_age = sum(p[0] for p in valid_pairs) / n\n",
    "    mean_meds = sum(p[1] for p in valid_pairs) / n\n",
    "    covariance = 0\n",
    "    var_age = 0\n",
    "    var_meds = 0\n",
    "\n",
    "    for age, meds in valid_pairs:\n",
    "        diff_age = age - mean_age\n",
    "        diff_meds = meds - mean_meds\n",
    "        covariance += diff_age * diff_meds\n",
    "        var_age += diff_age * diff_age\n",
    "        var_meds += diff_meds * diff_meds\n",
    "\n",
    "    if var_age == 0 or var_meds == 0:\n",
    "        return 0, valid_pairs\n",
    "\n",
    "    correlation = covariance / (math.sqrt(var_age) * math.sqrt(var_meds))\n",
    "\n",
    "    print(f\"\\nSummary Statistics:\")\n",
    "    print(f\"Number of valid data points: {n}\")\n",
    "    print(f\"Average age: {mean_age:.2f} years\")\n",
    "    print(f\"Average number of active medicines: {mean_meds:.2f}\")\n",
    "    print(f\"Pearson correlation coefficient: {correlation:.2f}\")\n",
    "\n",
    "    return correlation, valid_pairs"
   ]
  },
  {
   "cell_type": "code",
   "execution_count": 38,
   "metadata": {},
   "outputs": [
    {
     "name": "stdout",
     "output_type": "stream",
     "text": [
      "\n",
      "Summary Statistics:\n",
      "Number of valid data points: 21\n",
      "Average age: 34.67 years\n",
      "Average number of active medicines: 1.48\n",
      "Pearson correlation coefficient: -0.07\n"
     ]
    }
   ],
   "source": [
    "correlation, data_points = calculate_pearson_correlation(json_data)"
   ]
  }
 ],
 "metadata": {
  "kernelspec": {
   "display_name": "Python 3",
   "language": "python",
   "name": "python3"
  },
  "language_info": {
   "codemirror_mode": {
    "name": "ipython",
    "version": 3
   },
   "file_extension": ".py",
   "mimetype": "text/x-python",
   "name": "python",
   "nbconvert_exporter": "python",
   "pygments_lexer": "ipython3",
   "version": "3.10.7"
  }
 },
 "nbformat": 4,
 "nbformat_minor": 2
}
